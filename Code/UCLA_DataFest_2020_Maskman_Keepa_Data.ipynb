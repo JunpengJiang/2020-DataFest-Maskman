{
 "cells": [
  {
   "cell_type": "code",
   "execution_count": 1,
   "metadata": {},
   "outputs": [],
   "source": [
    "import numpy as np\n",
    "import pandas as pd\n",
    "\n",
    "import keepa\n",
    "accesskey = 'Your access key' # enter real access key here\n",
    "api = keepa.Keepa(accesskey)"
   ]
  },
  {
   "cell_type": "code",
   "execution_count": 2,
   "metadata": {},
   "outputs": [],
   "source": [
    "def keepa_data_download_keyword(keyword, field = 'AMAZON', date_cutoff = '2020-03-01', frequency = 'D', data_type=2):\n",
    "    \"\"\"\n",
    "    data types: 1 or others\n",
    "    Type 1: for the price data usage\n",
    "    Others: for out of stock percentage data\n",
    "    \"\"\"\n",
    "    \n",
    "    product_parms = {'title': keyword}\n",
    "    items = api.product_finder(product_parms)\n",
    "    \n",
    "    if data_type==1:\n",
    "        products = api.query(items) # returns list of product data\n",
    "    else:\n",
    "        products = api.query(items, out_of_stock_as_nan=False) \n",
    "    \n",
    "    df_comp = pd.DataFrame()\n",
    "    i = 0\n",
    "    \n",
    "    for product in products:\n",
    "        last_date = pd.to_datetime(pd.Series(product['data'][field+'_time']).astype(str).apply(lambda x:x[:10]), \\\n",
    "                          format='%Y-%m-%d').iloc[-1]\n",
    "        first_price = product['data'][field][0]\n",
    "        last_price = product['data'][field][-1]\n",
    "\n",
    "        df = pd.DataFrame()\n",
    "        df[product['asin']]  = product['data'][field]\n",
    "        df['date'] = pd.to_datetime(product['data'][field+\"_time\"])\n",
    "\n",
    "        df.set_index('date', inplace = True)\n",
    "        df = df.resample(frequency).mean()\n",
    "        df[product['asin']] = df[product['asin']].fillna(method = 'ffill')\n",
    "        \n",
    "        if df_comp.empty:\n",
    "            df_comp = df\n",
    "        else:\n",
    "            df_comp = df_comp.join(df, how = 'outer')\n",
    "        \n",
    "        i+=1\n",
    "        \n",
    "        if i == 10:\n",
    "            break\n",
    "\n",
    "    df_comp.fillna(method='ffill', inplace=True)\n",
    "    \n",
    "    if data_type==1:\n",
    "        df_comp.to_csv('price_data/{0}_{1}.csv'.format(keyword, field))\n",
    "    else:\n",
    "        df_comp.to_csv('stock_data/{0}_{1}.csv'.format(keyword, field))\n",
    "    return df_comp"
   ]
  },
  {
   "cell_type": "code",
   "execution_count": 3,
   "metadata": {},
   "outputs": [],
   "source": [
    "keyword_list = ['N95 Mask','hand sanitizer','disinfectant spray','disinfectant wipes','olive oil','canned soup','rice','instant noodles','bottled water','hair color','hair clipper','shampoo','trash bag','toilet paper','dumbbell','yoga mat','nintendo switch','pet supply','printer ink']"
   ]
  },
  {
   "cell_type": "code",
   "execution_count": 4,
   "metadata": {},
   "outputs": [
    {
     "name": "stderr",
     "output_type": "stream",
     "text": [
      "\r",
      "  0%|                                                                                           | 0/50 [00:00<?, ?it/s]"
     ]
    },
    {
     "name": "stdout",
     "output_type": "stream",
     "text": [
      "['B001PD0Q5U', 'B085WNYY71', 'B008O9L8KK', 'B002Y46R0M', 'B001PCVAJM', 'B07PQTRDS2', 'B0162IIBPE', 'B07L91XW34', 'B00462FDS2', 'B07C43HLGK', 'B07C418LTT', 'B07GRZL8KN', 'B00M5BVUOW', 'B07C433QD3', 'B005YSI3VQ', 'B07D8Q4FNG', 'B004KQ9JHK', 'B07KMQ6QCF', 'B00GTC92XY', 'B00CQM6QBM', 'B002EVP5OE', 'B00286NGAA', 'B00CQM6Q8U', 'B017K374VC', 'B00VS44YSQ', 'B01J193QZ6', 'B0727NQ6TG', 'B077ZF7B71', 'B085WPL53C', 'B07MQSGXZP', 'B085TLBD9R', 'B085TLJH1L', 'B0027USRCO', 'B0864LRQJB', 'B0872BSHD9', 'B085GK6NVY', 'B076G8MRDG', 'B086JX8WBQ', 'B085TLLSM8', 'B0856883TQ', 'B085B3SDSR', 'B0868H5Z28', 'B085WPFMBJ', 'B085B419Z5', 'B085Y1R583', 'B085B3TCQH', 'B001NP8JZY', 'B081B5QDP2', 'B08595WV2F', 'B085B3F31C']\n"
     ]
    },
    {
     "name": "stderr",
     "output_type": "stream",
     "text": [
      "100%|██████████████████████████████████████████████████████████████████████████████████| 50/50 [00:04<00:00, 10.85it/s]\n",
      "  0%|                                                                                           | 0/50 [00:00<?, ?it/s]"
     ]
    },
    {
     "name": "stdout",
     "output_type": "stream",
     "text": [
      "['B00NVLPB5O', 'B0877C3JJ8', 'B085Q13423', 'B086QJ2JY5', 'B086XM88LM', 'B086VSSL9P', 'B0865JRFFM', 'B085PPHQ1D', 'B06Y63K8XY', 'B086L73VWN', 'B087VXWZQD', 'B0863D5PMY', 'B086R5CHVY', 'B08745MFT4', 'B0874F9CH1', 'B084BNPP5X', 'B085PS82HF', 'B0865YCH61', 'B085KTVYY8', 'B087R6NG7D', 'B087N36FRN', 'B0873YDY7W', 'B0881Y6ZYM', 'B01N6L9JK2', 'B085FV8TYQ', 'B085NC7LRB', 'B087NJ1R5B', 'B07VX8PXD8', 'B087QQQLYM', 'B086G4W5GQ', 'B086CC9B28', 'B0865PMVM7', 'B086V73GQ5', 'B087V7VKN6', 'B087GF7ZVS', 'B001Q23J3G', 'B01G2OK1VK', 'B0013CNOMU', 'B0728HNRFB', 'B085PQ7XD3', 'B087J1VFHR', 'B086PKKZXZ', 'B087781VTJ', 'B086YBHK2P', 'B0889WWM49', 'B086M7DYQR', 'B087WF7PBB', 'B086WNQ96H', 'B086HW8QBD', 'B086XJYKR4']\n"
     ]
    },
    {
     "name": "stderr",
     "output_type": "stream",
     "text": [
      "100%|██████████████████████████████████████████████████████████████████████████████████| 50/50 [00:06<00:00,  7.24it/s]\n",
      "  0%|                                                                                           | 0/50 [00:00<?, ?it/s]"
     ]
    },
    {
     "name": "stdout",
     "output_type": "stream",
     "text": [
      "['B01DCG0GPC', 'B00GYRBY1M', 'B00GYRBXCM', 'B086R5CHVY', 'B079Z1M3T6', 'B086G4W5GQ', 'B06X1F6G5M', 'B06XD7BRJG', 'B00WG9SJUG', 'B074G433M5', 'B07JXP2Z3Q', 'B0014COKYU', 'B000VB0C4M', 'B075H16TBT', 'B004Z45W9G', 'B087TBMC4M', 'B07BQFXQX4', 'B01LOC9N9G', 'B01GFLZ46W', 'B079Z6XH36', 'B087T7TP3F', 'B087DW1PBC', 'B014V9KTAG', 'B08723SMM8', 'B01MY9AZDL', 'B01K1P91D0', 'B087DW8NYC', 'B0877CGVK3', 'B07GJK9C5K', 'B01IAIMYF2', 'B07YCZD1KY', 'B08746RK7W', 'B00T1S16NC', 'B083HMFNL6', 'B076XCTB9H', 'B074NCJ1DP', 'B00IS8HTRS', 'B01IAIN4YC', 'B087D91W6V', 'B07CNQDHNX', 'B07THS326N', 'B000EGK4HY', 'B087JX1XQH', 'B011A5FXWI', 'B01N9BL5Z6', 'B000ZOQ9HY', 'B00BAN94A8', 'B00BAKMTG2', 'B01BO6UCDI', 'B01LQ6VUTG']\n"
     ]
    },
    {
     "name": "stderr",
     "output_type": "stream",
     "text": [
      "100%|██████████████████████████████████████████████████████████████████████████████████| 50/50 [00:04<00:00, 12.38it/s]\n",
      "  0%|                                                                                           | 0/50 [00:00<?, ?it/s]"
     ]
    },
    {
     "name": "stdout",
     "output_type": "stream",
     "text": [
      "['B087G2GZ63', 'B06W9L5JTP', 'B0882V1CNH', 'B0882PP4FG', 'B00EZMPD4W', 'B087X7JLZ3', 'B0886D9K68', 'B0874VK3C8', 'B088FGJFTC', 'B088FSZ543', 'B0888S614C', 'B0886CW8JW', 'B088FZSWLM', 'B0872YLTNK', 'B088FMG6XQ', 'B0874VN11N', 'B088FYJMC1', 'B087X7W6VN', 'B088FWK49G', 'B078HRLXZ5', 'B088H8YS7N', 'B07BH33MBZ', 'B01CRONSGY', 'B08837PTJ2', 'B00006IAVC', 'B086Y6K1DF', 'B085Q2KQJX', 'B07GRDKLHL', 'B001GEZEAK', 'B088FNQSMX', 'B088FC1Z29', 'B07NLPMYQC', 'B01MF6AHC2', 'B00B5I4HU0', 'B087SM446G', 'B00BFFGJ6S', 'B086PSLCGS', 'B07T8KFGKR', 'B00B5I4BYM', 'B013EW28WS', 'B00B5I4JSA', 'B079X656ZN', 'B087QD6P71', 'B088CSHHB6', 'B07D2KDH9T', 'B078HGFP2L', 'B087QJV3KX', 'B087ZRL7CZ', 'B087F9W1PB', 'B086D7KP7J']\n"
     ]
    },
    {
     "name": "stderr",
     "output_type": "stream",
     "text": [
      "100%|██████████████████████████████████████████████████████████████████████████████████| 50/50 [00:10<00:00,  4.71it/s]\n",
      "  0%|                                                                                           | 0/50 [00:00<?, ?it/s]\u001b[A"
     ]
    },
    {
     "name": "stdout",
     "output_type": "stream",
     "text": [
      "['B00GB85JR4', 'B004X8KOEC', 'B00W845Y2U', 'B00GGBLPVU', 'B017ALC6GW', 'B07WPSJWQ6', 'B0821Y5BS3', 'B0773ZYNKQ', 'B0086OZ7X2', 'B01B12KCGC', 'B01NAL0NKU', 'B07TLGBNNL', 'B07X4LTJQM', 'B07PKR2J3D', 'B00OVQUQHG', 'B07PG9XBTF', 'B086JTKPXX', 'B00FMXG8XI', 'B07F1KL62R', 'B015CYRBPK', 'B00MUOR61U', 'B07PLTRF2H', 'B01MT673U6', 'B07PKQV4SP', 'B07TNMM9S8', 'B07354V664', 'B07TKFGBB6', 'B00CJHO7R4', 'B008PRHZ58', 'B00AZK006Y', 'B01B55SJWY', 'B01J2ZA8HI', 'B005JLFBX6', 'B004059XAY', 'B084VJP8LG', 'B01MQXV3LA', 'B015ONU4JE', 'B00CEY59L0', 'B01N0APDVS', 'B008R40C22', 'B079MF4R4B', 'B079W1JWQT', 'B07GB61V6Z', 'B015HTK6FM', 'B003SC0QBK', 'B079MFWRZC', 'B07DKB4FFW', 'B08221QRPX', 'B005WF768C', 'B07CKNQ398']\n"
     ]
    },
    {
     "name": "stderr",
     "output_type": "stream",
     "text": [
      "\n",
      "100%|██████████████████████████████████████████████████████████████████████████████████| 50/50 [00:03<00:00, 15.07it/s]\u001b[A\n",
      "\n",
      "  0%|                                                                                           | 0/50 [00:00<?, ?it/s]\u001b[A"
     ]
    },
    {
     "name": "stdout",
     "output_type": "stream",
     "text": [
      "['B01016M04Q', 'B01LYS9P3E', 'B01GK21O06', 'B006I48ZYA', 'B01N1O1TF8', 'B00M3QGU94', 'B00V6H0J0C', 'B01N9DBTTG', 'B005HH1YWE', 'B005HH1YWO', 'B078WS1JTR', 'B00M3QGWGK', 'B01MSUUZ9O', 'B019YHT9HE', 'B0018CIP10', 'B01LT7JYHM', 'B07C9S612G', 'B0018CG2DI', 'B0018CJY7O', 'B0874VG54K', 'B00188VHOG', 'B01JBTOKS8', 'B0025VF8OA', 'B07YNVPSQD', 'B086L5K1Z7', 'B00E3QNE6Y', 'B081FJZLXN', 'B01F1VOV02', 'B019YHTNW0', 'B081CPMVSJ', '1088735010', 'B0874WV31B', '1423600274', 'B000LVM4SY', 'B00CF5B28W', 'B005IPR5VE', 'B081CND676', 'B07YP73CDP', 'B003IWQ83U', 'B006I48ZTK', 'B005IPRMF8', 'B000LVQKKC', 'B072BGD122', 'B0153VNN5O', 'B0009X2A6K', 'B07JNJY6SC', 'B000LVNZYG', 'B014C4CNF4', 'B000LVNZUK', 'B00061EVCQ']\n"
     ]
    },
    {
     "name": "stderr",
     "output_type": "stream",
     "text": [
      "\n",
      "100%|██████████████████████████████████████████████████████████████████████████████████| 50/50 [00:17<00:00,  2.89it/s]\u001b[A\n",
      "\n",
      "  0%|                                                                                           | 0/50 [00:00<?, ?it/s]\u001b[A\u001b[A"
     ]
    },
    {
     "name": "stdout",
     "output_type": "stream",
     "text": [
      "['B00FLYWNYQ', 'B07RCNHTLS', 'B01NBKTPTS', 'B01B1VC13K', 'B07RC8LL8R', 'B06Y1YD5W7', 'B07R92QXNB', 'B07R6V1MXW', 'B075CYMYK6', 'B075CWJ3T8', 'B00PC5CI8K', 'B077VHT7H2', 'B0009YWKUA', 'B01HHVWWMI', 'B01EY9KQ2Y', 'B07K6BGV5J', 'B001QCKS4O', 'B00R1H0438', 'B004O83YVQ', 'B0055FSN3Q', 'B0752VWV65', 'B06Y1MP2PY', 'B07WL1XBBD', 'B07588SJHN', 'B0777XZBMZ', 'B0057XGM5W', 'B07W55DDFB', 'B0777XQ4S8', 'B003O7ZON4', 'B06WGLV27L', 'B0794N16ZD', 'B073PCGRR2', 'B07856X3XV', 'B074N6C89T', 'B000084F1I', 'B06WLLZFYD', 'B06VVKTFKY', 'B000XK8MCA', 'B0752PD6PR', 'B07CHZP91L', 'B07G5WJBQN', 'B07DTPC1QB', 'B01C5RAC5I', 'B07G5VFWTJ', 'B07G5ZTKVQ', 'B07W99DXV9', 'B000XZBXP8', 'B00494JWY8', 'B01LYHVC5C', 'B00BPG6URA']\n"
     ]
    },
    {
     "name": "stderr",
     "output_type": "stream",
     "text": [
      "\n",
      "\n",
      "100%|██████████████████████████████████████████████████████████████████████████████████| 50/50 [00:04<00:00, 12.17it/s]\u001b[A\u001b[A\n",
      "\n",
      "\n",
      "  0%|                                                                                           | 0/50 [00:00<?, ?it/s]\u001b[A\u001b[A\u001b[A"
     ]
    },
    {
     "name": "stdout",
     "output_type": "stream",
     "text": [
      "['B085J2HM58', 'B00HXIXWKM', 'B077T7HC88', 'B079KPMJXP', 'B000VSDA3A', 'B00CORJU5S', 'B0028PDFQG', 'B00ZGCUJ6M', 'B000VSFMCW', 'B002F0RY20', 'B01LYAV5WG', 'B00HXIXWES', 'B014CZ23K8', 'B00A28QQ44', 'B087Q1HFYK', 'B07WBVMM3J', 'B07V71YC4R', 'B083K7JV6K', 'B07V2QDRMN', 'B07V84K233', 'B00LIBX2OG', 'B07NH8V412', 'B00LEOVKVE', 'B082XK2Y1C', 'B00C8XYYNG', 'B075P2HMK4', 'B07FFGW2QS', 'B083K7NSDQ', 'B078WR5P9D', 'B00YZPD0OE', 'B00JIA2GZK', 'B085TM2J2X', 'B00FZVH228', 'B000VQDABY', 'B07B2WDH5L', 'B0821W8H6D', 'B01MSMFU19', 'B07RJV5VSY', 'B000VSDCH4', 'B083K84YPG', 'B07P9S6VWY', 'B009Q2YM7A', 'B07VLPRTTB', 'B084YYCF3M', 'B01EU769TO', 'B083K82JDP', 'B07WLNVVSD', 'B00886SCJE', 'B00EZ2REX0', 'B07BPPMGVZ']\n"
     ]
    },
    {
     "name": "stderr",
     "output_type": "stream",
     "text": [
      "\n",
      "\n",
      "\n",
      "100%|██████████████████████████████████████████████████████████████████████████████████| 50/50 [00:03<00:00, 13.47it/s]\u001b[A\u001b[A\u001b[A\n",
      "\n",
      "\n",
      "\n",
      "  0%|                                                                                           | 0/50 [00:00<?, ?it/s]\u001b[A\u001b[A\u001b[A"
     ]
    },
    {
     "name": "stdout",
     "output_type": "stream",
     "text": [
      "['B005HG9ESG', 'B005HG9ERW', 'B07C125Q9S', 'B07X7HRMRK', 'B07C1Z6WW6', 'B07CB9XMHY', 'B0872MWRQW', 'B07C23CN6M', 'B07CDVHJC6', 'B07P83L3VM', 'B07PCF1MYQ', 'B07C1XHH6R', 'B07C1ZGL2V', 'B07BXXS5L2', 'B002TACI6I', 'B078VBWKGP', 'B000CDHZEY', 'B07P619NNK', 'B07SPZYNNT', 'B01BR0AW2W', 'B07PCCCPQN', 'B07MQS8G2R', 'B07P97J837', 'B07B3HLJXR', 'B086JLVF84', 'B07B1XYMFC', 'B01LYLM8JJ', 'B07P97JKKN', 'B07V43XKBD', 'B07P61BB23', 'B079YF177C', 'B07VT3R6Q8', 'B07SMW2DPL', 'B00COR1HHW', 'B07SMR6QBB', 'B07P97JGYC', 'B07PBCTN92', 'B00LLKWVL4', 'B078SDLD2X', 'B07T5SY8L6', 'B07T5SCLMG', 'B07T2JD255', 'B01JTXE1AI', 'B07CXQM58X', 'B01JTXE17Q', 'B07CXQM58Z', 'B01MXUSQNH', 'B0725VSR56', 'B078YK1XFL', 'B01N0NEW34']\n"
     ]
    },
    {
     "name": "stderr",
     "output_type": "stream",
     "text": [
      "\n",
      "\n",
      "\n",
      "100%|██████████████████████████████████████████████████████████████████████████████████| 50/50 [00:03<00:00, 13.28it/s]\u001b[A\u001b[A\u001b[A\n",
      "\n",
      "\n",
      "\n",
      "  0%|                                                                                           | 0/50 [00:00<?, ?it/s]\u001b[A\u001b[A\u001b[A\u001b[A"
     ]
    },
    {
     "name": "stdout",
     "output_type": "stream",
     "text": [
      "['B01N0993NM', 'B000AS45LC', 'B00EEN2HCS', 'B00ILBUG40', 'B00U9RUZ04', 'B06XQHC6TM', 'B0746VVWX5', 'B002GELXJK', 'B06Y2DT2GJ', 'B06VSZ69LL', 'B003AYEGGM', 'B00DM1DDBW', 'B003AYEGG2', 'B00FZSB0Y2', 'B0147RUWSQ', 'B00CCYN798', 'B00HRADSJ6', 'B004BYSR6K', 'B004INIW1Y', 'B07FCNYND8', 'B071V6V7YM', 'B0746W5MB8', 'B0147RUWS6', 'B07Q8TBFTX', 'B003A874R6', 'B000VWKIKO', 'B004S44DTS', 'B002ECZEVM', 'B07X6846K1', 'B079RDR8ZD', 'B07JFD7D32', 'B07QC43BXB', 'B00U9RV1DY', 'B07BYW1TKZ', 'B07V4BGPZJ', 'B07Y23CM6Z', 'B083PYNPB2', 'B07TNFQX8P', 'B0147RUWVI', 'B07Y9XNSF1', 'B07D525VZS', 'B0752L2VSJ', 'B07XCJSYRT', 'B083198FHH', 'B00VIQX9OY', 'B087NG7ZW6', 'B087N7TGF5', 'B000NSTYOC', 'B01DPWDXTE', 'B07CLKZJ51']\n"
     ]
    },
    {
     "name": "stderr",
     "output_type": "stream",
     "text": [
      "\n",
      "\n",
      "\n",
      "\n",
      "100%|██████████████████████████████████████████████████████████████████████████████████| 50/50 [00:03<00:00, 13.55it/s]\u001b[A\u001b[A\u001b[A\u001b[A\n",
      "\n",
      "\n",
      "\n",
      "\n",
      "  0%|                                                                                           | 0/50 [00:00<?, ?it/s]\u001b[A\u001b[A\u001b[A\u001b[A"
     ]
    },
    {
     "name": "stdout",
     "output_type": "stream",
     "text": [
      "['B01N0993NM', 'B07GB3QXC6', 'B0084AWBRS', 'B07PYTGL23', 'B087MBH1G4', 'B076JP8BDQ', 'B07R6RG5FD', 'B0883BY4QM', 'B07QTZCQ8Y', 'B07YS31HXB', 'B07XLGJFSY', 'B07JFH3X1G', 'B07YV6L88G', 'B07YD8TFFJ', 'B0888CMWXY', 'B083WLR22G', 'B07F1MV9DR', 'B01LPT25A2', 'B07SZ7PK66', 'B002FS4VJQ', 'B087T2M148', 'B087X48S57', 'B00A4N8JJM', 'B082W5V95W', 'B07NZC7DXM', 'B07X74NWTS', 'B07TK1S8SK', 'B00H4INPPI', 'B087N3ZKYV', 'B006YPQ7XY', 'B000BCZ8JU', 'B07GC52ZKF', 'B07DVLQSRK', 'B087D9H6BJ', 'B07CN3V9Q5', 'B07WV932R4', 'B087RS4HYS', 'B085G1WML3', 'B07TKZS98Q', 'B07NM71SFG', 'B07XQBZ3J8', 'B001GQ3GEY', 'B07XLVB8PD', 'B07ZT33HS6', 'B01G7QXQV0', 'B086GSR3LG', 'B00H4INPO4', 'B083QHKD16', 'B07XQK6PNH', 'B01M5FRLLS']\n"
     ]
    },
    {
     "name": "stderr",
     "output_type": "stream",
     "text": [
      "\n",
      "\n",
      "\n",
      "\n",
      "100%|██████████████████████████████████████████████████████████████████████████████████| 50/50 [00:04<00:00, 10.80it/s]\u001b[A\u001b[A\u001b[A\u001b[A\n",
      "\n",
      "\n",
      "\n",
      "\n",
      "  0%|                                                                                           | 0/50 [00:00<?, ?it/s]\u001b[A\u001b[A\u001b[A\u001b[A\u001b[A"
     ]
    },
    {
     "name": "stdout",
     "output_type": "stream",
     "text": [
      "['B0037Z6VK8', 'B074ZDXFL6', 'B005CUTW8O', 'B00AINMFAC', 'B004H1R8TY', 'B00GZQYK4K', 'B071RKWXKV', 'B01L9HE4KE', 'B00FH692PQ', 'B07DGK6HC6', 'B018FGSTT4', 'B07BHCB9Y2', 'B06X6CRHY7', 'B01FE3IIC4', 'B01BSB56OY', 'B01M6416TW', 'B00RWCDM4A', 'B005CUTY4G', 'B07D37PQGL', 'B01GIJ1Z6E', 'B076Q6442Z', 'B00BJCAPEE', 'B07BV5LT27', 'B000MD65FO', 'B06XPSP2HS', 'B072BGVMKC', 'B01DAPMQO4', 'B00ILBUEVK', 'B00CGPMEAQ', 'B07N13W76L', 'B07F44G1LS', 'B005IHT8KI', 'B07P7L1HFN', 'B00AFBXQNC', 'B01N97PCBH', 'B01NAFQIJ9', 'B01H6OXQFS', 'B01MYONM8E', 'B01MUOX7PP', 'B01GQRR34Q', 'B07HRNLW6V', 'B003TPW5YM', 'B00SGP6316', 'B001UGL84U', 'B01782L0WO', 'B07NRYPX4Q', 'B07D12NYWM', 'B07VZKG7JH', 'B07PWMXB61', 'B07V9G332X']\n"
     ]
    },
    {
     "name": "stderr",
     "output_type": "stream",
     "text": [
      "\n",
      "\n",
      "\n",
      "\n",
      "\n",
      "100%|██████████████████████████████████████████████████████████████████████████████████| 50/50 [00:03<00:00, 13.69it/s]\u001b[A\u001b[A\u001b[A\u001b[A\u001b[A\n",
      "\n",
      "\n",
      "\n",
      "\n",
      "\n",
      "  0%|                                                                                           | 0/50 [00:00<?, ?it/s]\u001b[A\u001b[A\u001b[A\u001b[A\u001b[A"
     ]
    },
    {
     "name": "stdout",
     "output_type": "stream",
     "text": [
      "['B07CSP1CGB', 'B074NB6L9Z', 'B00Q8JRSNY', 'B00IA6ILKC', 'B00PDHEKBU', 'B00O3989WA', 'B01078GH6A', 'B07QJX17DY', 'B00P60CH64', 'B07WFNFZVR', 'B075MXY6DQ', 'B082L85SZJ', 'B074N5JXQV', 'B01BZ0M3ZI', 'B010B2LLOA', 'B005GSYXJ0', 'B076PJSQ5S', 'B07RDDRHSP', 'B00MTSM8HO', 'B07MML7VHR', 'B01L5E7OB2', 'B01HSSXYVI', 'B082L8W964', 'B009FREAGO', 'B01GK94OQK', 'B079KMPJ12', 'B013LS7T4W', 'B01HSSZN2Q', 'B00YHEKY2Y', 'B075MFCKJY', 'B07WCLX3JW', 'B01JHZVVP6', 'B074PZ6QPM', 'B07HMDBKSD', 'B00IA6IHPG', 'B07V69LCB1', 'B003TXVZE0', 'B01N4OP315', 'B01HSSVDT8', 'B083ZNJSCD', 'B00D5YS4HE', 'B00O398M9U', 'B01N39TMC7', 'B00IA6IN78', 'B013RJL2K2', 'B01BZ0ME5W', 'B081YPM6RJ', 'B000VB2XIA', 'B0753QRL18', 'B00CLH911E']\n"
     ]
    },
    {
     "name": "stderr",
     "output_type": "stream",
     "text": [
      "\n",
      "\n",
      "\n",
      "\n",
      "\n",
      "100%|██████████████████████████████████████████████████████████████████████████████████| 50/50 [00:03<00:00, 14.18it/s]\u001b[A\u001b[A\u001b[A\u001b[A\u001b[A\n",
      "\n",
      "\n",
      "\n",
      "\n",
      "\n",
      "  0%|                                                                                           | 0/50 [00:00<?, ?it/s]\u001b[A\u001b[A\u001b[A\u001b[A\u001b[A"
     ]
    },
    {
     "name": "stdout",
     "output_type": "stream",
     "text": [
      "['B00D3JA5V4', 'B07PBP8C8R', 'B07ND5BB8V', 'B07ND3MW45', 'B07FGBSF45', 'B07BQV5RWW', 'B001AZFA0O', 'B0874Y8KQH', 'B074CRK54X', 'B0014C440U', 'B0854WL4G3', 'B081NP6X31', 'B07PCKPC1Y', 'B086HBR8Y9', 'B0798DVT68', 'B07TLNQTK6', 'B01B5KAAUS', 'B0798C1NYR', 'B081M896RK', 'B07986PWD3', 'B001DEIG44', 'B086Q2FNSH', 'B0042VIK3C', 'B0798DVT69', 'B07CMSTTCQ', 'B0863S9Y73', 'B002FB2CS0', 'B081QKGJSZ', 'B086Z78QCW', 'B06XSJ1RJQ', 'B000X7T8EE', 'B087D64YFG', 'B07ZCJH2R6', 'B0040XCTP2', 'B0878QLDK8', 'B07BG5NX3Y', 'B00VNBESVM', 'B07Y8ZK1Y4', 'B00JJXMAI4', 'B07SVP83BP', 'B00DNYXJP8', 'B01LAJ8F0Q', 'B081L2742C', 'B086VQX9QL', 'B0000AZ74O', 'B086MKPYV9', 'B07YMP1JZT', 'B07YMYGL7Y', 'B07YMTSLMY', 'B085FVF4JD']\n"
     ]
    },
    {
     "name": "stderr",
     "output_type": "stream",
     "text": [
      "\n",
      "\n",
      "\n",
      "\n",
      "\n",
      "100%|██████████████████████████████████████████████████████████████████████████████████| 50/50 [00:03<00:00, 13.82it/s]\u001b[A\u001b[A\u001b[A\u001b[A\u001b[A\n",
      "\n",
      "\n",
      "\n",
      "\n",
      "\n",
      "  0%|                                                                                           | 0/50 [00:00<?, ?it/s]\u001b[A\u001b[A\u001b[A\u001b[A\u001b[A"
     ]
    },
    {
     "name": "stdout",
     "output_type": "stream",
     "text": [
      "['B0756ZWKW5', 'B074DZ6NGS', 'B074DYLY5V', 'B074DZGRMG', 'B074DZ6NJB', 'B074DZHYS6', 'B074DZNJ3T', 'B074DZ65J3', 'B074DZ5YL9', 'B074DZFKH6', 'B07Y52WTYP', 'B01MYYVGU7', 'B01N9GPLFS', 'B01LR5SIRI', 'B01LR5S6HK', 'B01LR5S1WA', 'B01LR5SEKE', 'B01LR5RSG0', 'B01LR5RG08', 'B01LR5RK0Y', 'B01LR5RBZ8', 'B01LR5RVYE', 'B01LR5SAIA', 'B01LR5RO5U', 'B088BVQPVF', 'B088B4QG5S', 'B088BG9799', 'B088BB6TW4', 'B088BJMR73', 'B088CF9VWF', 'B0727Q5F94', 'B07G2MTKHJ', 'B088B8683R', 'B088BLF8VH', 'B088B86P5K', 'B088BJQDQ6', 'B07NPX5K94', 'B01L8X02WI', 'B009GC76QO', 'B07Y2T7B7G', 'B07YYW6L2K', 'B0077XVIS6', 'B009GC76NW', 'B005MHDPBW', 'B07YYWBPDL', 'B01D487TDA', 'B07TWCBW57', 'B07YYW44ML', 'B07YYS39DV', 'B07235H4JQ']\n"
     ]
    },
    {
     "name": "stderr",
     "output_type": "stream",
     "text": [
      "\n",
      "\n",
      "\n",
      "\n",
      "\n",
      "100%|██████████████████████████████████████████████████████████████████████████████████| 50/50 [00:02<00:00, 17.50it/s]\u001b[A\u001b[A\u001b[A\u001b[A\u001b[A\n",
      "\n",
      "\n",
      "\n",
      "\n",
      "\n",
      "  0%|                                                                                           | 0/50 [00:00<?, ?it/s]\u001b[A\u001b[A\u001b[A\u001b[A\u001b[A"
     ]
    },
    {
     "name": "stdout",
     "output_type": "stream",
     "text": [
      "['B00FO9ZRYQ', 'B00FO9U46W', 'B00FO9ZRYG', 'B00FO9ZRZK', 'B00FO9ZRZU', 'B017198D8S', 'B00FO9ZRZ0', 'B00JW3CTTQ', 'B00RWFQYG0', 'B00FO9ZS2W', 'B07J9WSQFZ', 'B086GVCCWX', 'B07HB1JL16', 'B07H9KZQ9G', 'B07JVWGQX3', 'B07H9KV2YL', 'B07VSHYB3J', 'B082XXQ69Y', 'B07VQ9S45C', 'B082XXR5QD', 'B07VW466Q2', 'B07VQ9LK9Q', 'B07VTYNJ95', 'B07YNGD5MY', 'B07H9KV1GG', 'B07HB1JXF3', 'B07H9PZMVV', 'B07XVP6MZR', 'B07H9PZ42P', 'B07H9PZ6MH', 'B07H9PZDQW', 'B07H9PDL2Y', 'B07VSJLX16', 'B07VRFNV6T', 'B07H9P7QYC', 'B086VFFCZK', 'B086VGFSDB', 'B082MSMQ5N', 'B07XVMF1HL', 'B07H9PZGSP', 'B07XVNXZHY', 'B07XVNKSL3', 'B07XLTQJ6T', 'B07XVMWW4W', 'B07XVNW82F', 'B086VFQKYP', 'B07XVMH6N2', 'B07XLTQV8T', 'B07XLTPN48', 'B07XVP7TG9']\n"
     ]
    },
    {
     "name": "stderr",
     "output_type": "stream",
     "text": [
      "\n",
      "\n",
      "\n",
      "\n",
      "\n",
      "100%|██████████████████████████████████████████████████████████████████████████████████| 50/50 [00:02<00:00, 16.95it/s]\u001b[A\u001b[A\u001b[A\u001b[A\u001b[A\n",
      "\n",
      "\n",
      "\n",
      "\n",
      "\n",
      "  0%|                                                                                           | 0/50 [00:00<?, ?it/s]\u001b[A\u001b[A\u001b[A\u001b[A\u001b[A"
     ]
    },
    {
     "name": "stdout",
     "output_type": "stream",
     "text": [
      "['B07KXQX3S3', 'B07SR1BRN5', 'B01L2ZRYVE', 'B086GFHCB2', 'B07DPG774K', 'B07K2676W7', 'B01N3ASPNV', 'B07V5LZMTH', 'B07V2BBMK4', 'B07FV64QLX', 'B0819CCCN6', 'B07F8S18D5', 'B00MYT481C', 'B07SL6ZXBL', 'B07L69ZV1K', 'B07TCPVHTM', 'B07YDLMBSD', 'B07RMC5BRL', 'B07YJP3XZW', 'B07V4GCFP9', 'B07T1KR3WQ', 'B07TY4THDW', 'B07WG1FHL2', 'B07VC5GH71', 'B07QNRB5SB', 'B07PC7X38X', 'B07NR39TXK', 'B01N1037CV', 'B0795GHTBC', 'B083HYDGSK', 'B01MUA0D2A', 'B07G5TP4BN', 'B083DG4FGD', 'B0814RZZ2J', 'B076DWKD5B', 'B07T5QKKVP', 'B07NQXBZM9', 'B07SK4W1VJ', 'B07VHR4Y8G', 'B07S9886QV', 'B01NAUKS62', 'B01N1081RO', 'B071JRMKBH', 'B01MS6MO77', 'B07W3QM1YR', 'B07H5VTHJX', 'B07L3SXCL9', 'B07SK37PK2', 'B07F3RFPXG', 'B07RLZPYK1']\n"
     ]
    },
    {
     "name": "stderr",
     "output_type": "stream",
     "text": [
      "\n",
      "\n",
      "\n",
      "\n",
      "\n",
      "100%|██████████████████████████████████████████████████████████████████████████████████| 50/50 [00:03<00:00, 13.65it/s]\u001b[A\u001b[A\u001b[A\u001b[A\u001b[A\n",
      "\n",
      "\n",
      "\n",
      "\n",
      "\n",
      "  0%|                                                                                           | 0/50 [00:00<?, ?it/s]\u001b[A\u001b[A\u001b[A\u001b[A\u001b[A\u001b[A"
     ]
    },
    {
     "name": "stdout",
     "output_type": "stream",
     "text": [
      "['B00CKFL93K', 'B07NFTPCBP', 'B07D7J72XB', 'B07NDCWM6S', 'B07H42DV9J', 'B083GQ6G8X', 'B07HMHNHPZ', 'B07JLXBQKH', 'B00074VZAS', 'B005W0O5JK', 'B07G6XBS29', 'B07DH2T7W7', 'B004B3W4N8', 'B00QUHIGI0', 'B07G723TPP', 'B07DH2PQ56', 'B0009YUFMK', 'B002VXF3WE', 'B07D7JLRY7', 'B07G6ZGC4S', 'B00074VZ9O', 'B01D3J4U9Q', 'B00987HPFO', 'B07D7MW7YK', 'B07JLXBVD4', 'B01D3J7W14', 'B07D7M6BGL', 'B003MR52LU', 'B0827VYP1D', 'B003MROHZW', 'B07VFL7546', 'B01N6D9X94', 'B07M7949G5', 'B002DGE8Q6', 'B06XP3BJXD', 'B07D7FJHF9', 'B07JL29SKQ', 'B01D3J4S8O', 'B00V15HMNG', 'B00N97TNRM', 'B07JMGKVD1', 'B00XWMAPQM', 'B01HTTLUL2', 'B07D7J8WJV', 'B07JLXJFDR', 'B004MA04LY', 'B07WDDP8HT', 'B07DH2T7W8', 'B07N1DF2FY', 'B00B1DSZC0']\n"
     ]
    },
    {
     "name": "stderr",
     "output_type": "stream",
     "text": [
      "\n",
      "\n",
      "\n",
      "\n",
      "\n",
      "\n",
      "100%|██████████████████████████████████████████████████████████████████████████████████| 50/50 [00:03<00:00, 14.82it/s]\u001b[A\u001b[A\u001b[A\u001b[A\u001b[A\u001b[A\n",
      "\n",
      "\n",
      "\n",
      "\n",
      "\n",
      "\n",
      "  0%|                                                                                           | 0/50 [00:00<?, ?it/s]\u001b[A\u001b[A\u001b[A\u001b[A\u001b[A\u001b[A"
     ]
    },
    {
     "name": "stdout",
     "output_type": "stream",
     "text": [
      "['B013SKI4EM', 'B07QPWKYG9', 'B07997C366', 'B07STHBJX1', 'B07VVHZVHR', 'B07GSX78CW', 'B06XSB4M8J', 'B07SZZTXHJ', 'B082WX959C', 'B07SZKPSZG', 'B01FS2W6I8', 'B01EMFIJHE', 'B07N1DF9VV', 'B07CZK4RY1', 'B07KQ6SLTN', 'B082D9Y3P8', 'B00NY6QUP6', 'B07PB66JZ1', 'B06WVYGWMD', 'B07SPBS9V8', 'B07CZKL97G', 'B07RHSMZM4', 'B07D93TR7Z', 'B07QR1HGV5', 'B07L2MZW6B', 'B07TYCF5ZV', 'B01GAIU8ZC', 'B07VFF6SCR', 'B07NX8M1LP', 'B07GG7NCW1', 'B00NY6WB9K', 'B07H8P7BXX', 'B00PDNY8Q6', 'B07VG1ZR1C', 'B06Y3WCWXN', 'B07VCYBTT2', 'B00NY6OLCK', 'B07QNSDX64', 'B07BLPCJ16', 'B01LVZ1WI5', 'B07S2SYJC7', 'B08213RNFN', 'B07S3RZCC3', 'B07V3MPXCY', 'B07THZYFB4', 'B08211HQB6', 'B07S2SWB9Z', 'B083V2CMCS', 'B07GV3V6YW', 'B074P4ZS68']\n"
     ]
    },
    {
     "name": "stderr",
     "output_type": "stream",
     "text": [
      "\n",
      "\n",
      "\n",
      "\n",
      "\n",
      "\n",
      "100%|██████████████████████████████████████████████████████████████████████████████████| 50/50 [00:03<00:00, 15.63it/s]\u001b[A\u001b[A\u001b[A\u001b[A\u001b[A\u001b[A\n"
     ]
    }
   ],
   "source": [
    "# Download out-of-stock data\n",
    "for keyword in keyword_list:\n",
    "    keepa_data_download_keyword(keyword, frequency='D', date_cutoff='2020-01-15', data_type=0)"
   ]
  },
  {
   "cell_type": "code",
   "execution_count": null,
   "metadata": {},
   "outputs": [
    {
     "name": "stderr",
     "output_type": "stream",
     "text": [
      "\n",
      "\n",
      "\n",
      "\n",
      "\n",
      "\n",
      "  0%|                                                                                           | 0/50 [00:00<?, ?it/s]\u001b[A\u001b[A\u001b[A\u001b[A\u001b[A\u001b[A"
     ]
    },
    {
     "name": "stdout",
     "output_type": "stream",
     "text": [
      "['B085WNYY71', 'B002Y46R0M', 'B07PQTRDS2', 'B0162IIBPE', 'B076G8MRDG', 'B07C43HLGK', 'B07C418LTT', 'B07GRZL8KN', 'B00M5BVUOW', 'B07C433QD3', 'B07D8Q4FNG', 'B004KQ9JHK', 'B07KMQ6QCF', 'B00GTC92XY', 'B00CQM6QBM', 'B002EVP5OE', 'B00286NGAA', 'B017K374VC', 'B00VS44YSQ', 'B01J193QZ6', 'B0727NQ6TG', 'B077ZF7B71', 'B085WPL53C', 'B07MQSGXZP', 'B0027USRCO', 'B085TLBD9R', 'B085TLJH1L', 'B0864LRQJB', 'B0872BSHD9', 'B085GK6NVY', 'B086JX8WBQ', 'B085TLLSM8', 'B0856883TQ', 'B085B3SDSR', 'B0868H5Z28', 'B085WPFMBJ', 'B085B419Z5', 'B085Y1R583', 'B001NP8JZY', 'B085B3TCQH', 'B085B2PDP7', 'B085BLJRMF', 'B085B6144X', 'B085DYT8MM', 'B085BNRGL8', 'B07WK6L1T6', 'B084753HFL', 'B07H2981PQ', 'B085F37ZKB', 'B0859MGZ3Y']\n"
     ]
    },
    {
     "name": "stderr",
     "output_type": "stream",
     "text": [
      "\n",
      "\n",
      "\n",
      "\n",
      "\n",
      "\n",
      "100%|██████████████████████████████████████████████████████████████████████████████████| 50/50 [00:02<00:00, 20.01it/s]\u001b[A\u001b[A\u001b[A\u001b[A\u001b[A\u001b[A\n",
      "\n",
      "\n",
      "\n",
      "\n",
      "\n",
      "\n",
      "  0%|                                                                                           | 0/50 [00:00<?, ?it/s]\u001b[A\u001b[A\u001b[A\u001b[A\u001b[A\u001b[A"
     ]
    },
    {
     "name": "stdout",
     "output_type": "stream",
     "text": [
      "['B00NVLPB5O', 'B0877C3JJ8', 'B086QJ2JY5', 'B085Q13423', 'B086VSSL9P', 'B0865JRFFM', 'B085PPHQ1D', 'B06Y63K8XY', 'B086XM88LM', 'B087VXWZQD', 'B086L73VWN', 'B0863D5PMY', 'B086R5CHVY', 'B08745MFT4', 'B0874F9CH1', 'B084BNPP5X', 'B085PS82HF', 'B0865YCH61', 'B087R6NG7D', 'B087N36FRN', 'B01N6L9JK2', 'B085NC7LRB', 'B087NJ1R5B', 'B0881Y6ZYM', 'B0873YDY7W', 'B07VX8PXD8', 'B087QQQLYM', 'B086G4W5GQ', 'B0865PMVM7', 'B086V73GQ5', 'B086CC9B28', 'B087V7VKN6', 'B087GF7ZVS', 'B001Q23J3G', 'B01G2OK1VK', 'B0013CNOMU', 'B0728HNRFB', 'B085PQ7XD3', 'B087J1VFHR', 'B086PKKZXZ', 'B087781VTJ', 'B086M7DYQR', 'B086YBHK2P', 'B0889WWM49', 'B087WF7PBB', 'B086WNQ96H', 'B086HW8QBD', 'B086XJYKR4', 'B07H1LRG76', 'B085VHXR9S']\n"
     ]
    },
    {
     "name": "stderr",
     "output_type": "stream",
     "text": [
      "\n",
      "\n",
      "\n",
      "\n",
      "\n",
      "\n",
      "100%|██████████████████████████████████████████████████████████████████████████████████| 50/50 [00:02<00:00, 17.28it/s]\u001b[A\u001b[A\u001b[A\u001b[A\u001b[A\u001b[A\n",
      "\n",
      "\n",
      "\n",
      "\n",
      "\n",
      "\n",
      "  0%|                                                                                           | 0/50 [00:00<?, ?it/s]\u001b[A\u001b[A\u001b[A\u001b[A\u001b[A\u001b[A\u001b[A"
     ]
    },
    {
     "name": "stdout",
     "output_type": "stream",
     "text": [
      "['B01DCG0GPC', 'B00GYRBY1M', 'B00GYRBXCM', 'B086R5CHVY', 'B079Z1M3T6', 'B074NCJ1DP', 'B086G4W5GQ', 'B074G433M5', 'B06XD7BRJG', 'B07JXP2Z3Q', 'B06X1F6G5M', 'B00WG9SJUG', 'B0014COKYU', 'B000VB0C4M', 'B004Z45W9G', 'B087TBMC4M', 'B07BQFXQX4', 'B01LOC9N9G', 'B01GFLZ46W', 'B079Z6XH36', 'B075H16TBT', 'B087T7TP3F', 'B014V9KTAG', 'B08723SMM8', 'B087DW1PBC', 'B087DW8NYC', 'B01K1P91D0', 'B01MY9AZDL', 'B0877CGVK3', 'B01IAIMYF2', 'B08746RK7W', 'B00T1S16NC', 'B083HMFNL6', 'B076XCTB9H', 'B07GJK9C5K', 'B00IS8HTRS', 'B01IAIN4YC', 'B07YCZD1KY', 'B087D91W6V', 'B07THS326N', 'B00BAN94A8', 'B011A5FXWI', 'B087JX1XQH', 'B01N9BL5Z6', 'B000ZOQ9HY', 'B00BAKMTG2', 'B01LQ6VUTG', 'B01LQ6VQ9K', 'B07YCY8HVV', 'B075H4RPHB']\n"
     ]
    },
    {
     "name": "stderr",
     "output_type": "stream",
     "text": [
      "\n",
      "\n",
      "\n",
      "\n",
      "\n",
      "\n",
      "\n",
      "100%|██████████████████████████████████████████████████████████████████████████████████| 50/50 [00:03<00:00, 14.21it/s]\u001b[A\u001b[A\u001b[A\u001b[A\u001b[A\u001b[A\u001b[A\n",
      "\n",
      "\n",
      "\n",
      "\n",
      "\n",
      "\n",
      "\n",
      "  0%|                                                                                           | 0/50 [00:00<?, ?it/s]\u001b[A\u001b[A\u001b[A\u001b[A\u001b[A\u001b[A\u001b[A"
     ]
    },
    {
     "name": "stdout",
     "output_type": "stream",
     "text": [
      "['B087G2GZ63', 'B06W9L5JTP', 'B0882V1CNH', 'B00EZMPD4W', 'B0882PP4FG', 'B087X7JLZ3', 'B0886D9K68', 'B0874VK3C8', 'B088FGJFTC', 'B088FSZ543', 'B0888S614C', 'B0886CW8JW', 'B0874VN11N', 'B088FMG6XQ', 'B088FYJMC1', 'B087X7W6VN', 'B0872YLTNK', 'B088FWK49G', 'B088H8YS7N', 'B07BH33MBZ', 'B01CRONSGY', 'B08837PTJ2', 'B078HRLXZ5', 'B086Y6K1DF', 'B086PSLCGS', 'B00006IAVC', 'B085Q2KQJX', 'B07GRDKLHL', 'B001GEZEAK', 'B01MF6AHC2', 'B07NLPMYQC', 'B088FC1Z29', 'B088FNQSMX', 'B00B5I4HU0', 'B00BFFGJ6S', 'B087SM446G', 'B00B5I4BYM', 'B013EW28WS', 'B00B5I4JSA', 'B079X656ZN', 'B087QD6P71', 'B088CSHHB6', 'B078HGFP2L', 'B07D2KDH9T', 'B087ZRL7CZ', 'B087F9W1PB', 'B086D7KP7J', 'B078MYNTGM', 'B00B5I4ECQ', 'B0875YMZ7X']\n"
     ]
    },
    {
     "name": "stderr",
     "output_type": "stream",
     "text": [
      "\n",
      "\n",
      "\n",
      "\n",
      "\n",
      "\n",
      "\n",
      "100%|██████████████████████████████████████████████████████████████████████████████████| 50/50 [00:03<00:00, 16.64it/s]\u001b[A\u001b[A\u001b[A\u001b[A\u001b[A\u001b[A\u001b[A\n",
      "\n",
      "\n",
      "\n",
      "\n",
      "\n",
      "\n",
      "\n",
      "  0%|                                                                                           | 0/50 [00:00<?, ?it/s]\u001b[A\u001b[A\u001b[A\u001b[A\u001b[A\u001b[A\u001b[A\u001b[A"
     ]
    },
    {
     "name": "stdout",
     "output_type": "stream",
     "text": [
      "['B00GB85JR4', 'B004X8KOEC', 'B00W845Y2U', 'B00GGBLPVU', 'B017ALC6GW', 'B07WPSJWQ6', 'B0821Y5BS3', 'B0773ZYNKQ', 'B01B12KCGC', 'B0086OZ7X2', 'B01NAL0NKU', 'B07X4LTJQM', 'B00OVQUQHG', 'B00FMXG8XI', 'B07PKR2J3D', 'B07F1KL62R', 'B015CYRBPK', 'B00MUOR61U', 'B07PG9XBTF', 'B07PLTRF2H', 'B07PKQV4SP', 'B01MT673U6', 'B07354V664', 'B00CJHO7R4', 'B07TNMM9S8', 'B00AZK006Y', 'B01B55SJWY', 'B01J2ZA8HI', 'B005JLFBX6', 'B004059XAY', 'B07TLGBNNL', 'B07TKFGBB6', 'B008PRHZ58', 'B084VJP8LG', 'B01MQXV3LA', 'B07GB61V6Z', 'B015ONU4JE', 'B00CEY59L0', 'B01N0APDVS', 'B008R40C22', 'B079MF4R4B', 'B079W1JWQT', 'B015HTK6FM', 'B079MFWRZC', 'B08221QRPX', 'B07DKB4FFW', 'B07CKNQ398', 'B003SC0QBK', 'B01NA09LYF', 'B01NCXN0MV']\n"
     ]
    },
    {
     "name": "stderr",
     "output_type": "stream",
     "text": [
      "\n",
      "\n",
      "\n",
      "\n",
      "\n",
      "\n",
      "\n",
      "\n",
      "100%|██████████████████████████████████████████████████████████████████████████████████| 50/50 [00:03<00:00, 15.15it/s]\u001b[A\u001b[A\u001b[A\u001b[A\u001b[A\u001b[A\u001b[A\u001b[A\n",
      "\n",
      "\n",
      "\n",
      "\n",
      "\n",
      "\n",
      "\n",
      "\n",
      "  0%|                                                                                           | 0/50 [00:00<?, ?it/s]\u001b[A\u001b[A\u001b[A\u001b[A\u001b[A\u001b[A\u001b[A\u001b[A"
     ]
    },
    {
     "name": "stdout",
     "output_type": "stream",
     "text": [
      "['B01016M04Q', 'B01LYS9P3E', 'B01GK21O06', 'B006I48ZYA', 'B01N1O1TF8', 'B005HH1YWO', 'B01N9DBTTG', 'B00V6H0J0C', 'B00M3QGU94', 'B019YHT9HE', 'B00M3QGWGK', 'B01MSUUZ9O', 'B005HH1YWE', 'B078WS1JTR', 'B0018CIP10', 'B01LT7JYHM', 'B07C9S612G', 'B0018CG2DI', 'B0018CJY7O', 'B00188VHOG', 'B0874VG54K', 'B01JBTOKS8', 'B0025VF8OA', 'B07YNVPSQD', 'B00E3QNE6Y', 'B081FJZLXN', 'B01F1VOV02', 'B086L5K1Z7', 'B019YHTNW0', 'B081CPMVSJ', 'B0874WV31B', 'B000LVM4SY', 'B00CF5B28W', 'B005IPR5VE', 'B081CND676', 'B07YP73CDP', 'B003IWQ83U', 'B006I48ZTK', 'B000LVQKKC', 'B005IPRMF8', 'B072BGD122', 'B0153VNN5O', 'B0009X2A6K', '1088735010', '1423600274', 'B07JNJY6SC', 'B000LVNZYG', 'B014C4CNF4', 'B000LVNZUK', 'B01MRADUOL']\n"
     ]
    },
    {
     "name": "stderr",
     "output_type": "stream",
     "text": [
      "\n",
      "\n",
      "\n",
      "\n",
      "\n",
      "\n",
      "\n",
      "\n",
      "100%|██████████████████████████████████████████████████████████████████████████████████| 50/50 [00:02<00:00, 18.44it/s]\u001b[A\u001b[A\u001b[A\u001b[A\u001b[A\u001b[A\u001b[A\u001b[A\n",
      "\n",
      "\n",
      "\n",
      "\n",
      "\n",
      "\n",
      "\n",
      "\n",
      "  0%|                                                                                           | 0/50 [00:00<?, ?it/s]\u001b[A\u001b[A\u001b[A\u001b[A\u001b[A\u001b[A\u001b[A\u001b[A\u001b[A"
     ]
    },
    {
     "name": "stdout",
     "output_type": "stream",
     "text": [
      "['B00FLYWNYQ', 'B07RCNHTLS', 'B06Y1YD5W7', 'B01NBKTPTS', 'B01B1VC13K', 'B07RC8LL8R', 'B075CYMYK6', 'B07R92QXNB', 'B07R6V1MXW', 'B075CWJ3T8', 'B00PC5CI8K', 'B077VHT7H2', 'B0009YWKUA', 'B01HHVWWMI', 'B01EY9KQ2Y', 'B07K6BGV5J', 'B001QCKS4O', 'B0057XGM5W', 'B004O83YVQ', 'B0055FSN3Q', 'B00R1H0438', 'B06Y1MP2PY', 'B07WL1XBBD', 'B07588SJHN', 'B0777XZBMZ', 'B07W55DDFB', 'B0777XQ4S8', 'B003O7ZON4', 'B06WGLV27L', 'B0752VWV65', 'B074N6C89T', 'B0794N16ZD', 'B073PCGRR2', 'B07856X3XV', 'B000084F1I', 'B0752PD6PR', 'B06WLLZFYD', 'B07G5WJBQN', 'B000XK8MCA', 'B06VVKTFKY', 'B07CHZP91L', 'B07G5ZTKVQ', 'B07G5VFWTJ', 'B07DTPC1QB', 'B01C5RAC5I', 'B000XZBXP8', 'B00494JWY8', 'B00BPG6URA', 'B003CL3PTM', 'B00494LIYU']\n"
     ]
    },
    {
     "name": "stderr",
     "output_type": "stream",
     "text": [
      "\n",
      "\n",
      "\n",
      "\n",
      "\n",
      "\n",
      "\n",
      "\n",
      "\n",
      "100%|██████████████████████████████████████████████████████████████████████████████████| 50/50 [00:03<00:00, 14.65it/s]\u001b[A\u001b[A\u001b[A\u001b[A\u001b[A\u001b[A\u001b[A\u001b[A\u001b[A\n",
      "\n",
      "\n",
      "\n",
      "\n",
      "\n",
      "\n",
      "\n",
      "\n",
      "\n",
      "  0%|                                                                                           | 0/50 [00:00<?, ?it/s]\u001b[A\u001b[A\u001b[A\u001b[A\u001b[A\u001b[A\u001b[A\u001b[A\u001b[A"
     ]
    },
    {
     "name": "stdout",
     "output_type": "stream",
     "text": [
      "['B085J2HM58', 'B00HXIXWKM', 'B077T7HC88', 'B079KPMJXP', 'B000VSDA3A', 'B00CORJU5S', 'B00ZGCUJ6M', 'B000VSFMCW', 'B0028PDFQG', 'B002F0RY20', 'B01LYAV5WG', 'B014CZ23K8', 'B00HXIXWES', 'B00A28QQ44', 'B07WBVMM3J', 'B07V2QDRMN', 'B07V71YC4R', 'B07NH8V412', 'B083K7JV6K', 'B07V84K233', 'B087Q1HFYK', 'B083K7NSDQ', 'B00LIBX2OG', 'B00FZVH228', 'B083K82JDP', 'B07FFGW2QS', 'B083K84YPG', 'B07B2WDH5L', 'B082XK2Y1C', 'B00EZ2REX0', 'B00LEOVKVE', 'B075P2HMK4', 'B00JIA2GZK', 'B00C8XYYNG', 'B000VQDABY', 'B07RJV5VSY', 'B00YZPD0OE', 'B000VSDCH4', 'B078WR5P9D', 'B085TM2J2X', 'B07WLNVVSD', 'B009Q2YM7A', 'B084YYCF3M', 'B01EU769TO', 'B0821W8H6D', 'B083K7PBP8', 'B00ET3T6PE', 'B07BPPMGVZ', 'B00FVSZOSY', 'B081DCJ2W7']\n"
     ]
    },
    {
     "name": "stderr",
     "output_type": "stream",
     "text": [
      "\n",
      "\n",
      "\n",
      "\n",
      "\n",
      "\n",
      "\n",
      "\n",
      "\n",
      "100%|██████████████████████████████████████████████████████████████████████████████████| 50/50 [00:03<00:00, 16.55it/s]\u001b[A\u001b[A\u001b[A\u001b[A\u001b[A\u001b[A\u001b[A\u001b[A\u001b[AWaiting 55 seconds for additional tokens\n",
      "Response from server: NOT_ENOUGH_TOKEN\n",
      "Waiting 58 seconds for additional tokens\n",
      "\n",
      "\n",
      "\n",
      "\n",
      "\n",
      "\n",
      "\n",
      "\n",
      "\n",
      "\n",
      "  0%|                                                                                           | 0/50 [00:00<?, ?it/s]\u001b[A\u001b[A\u001b[A\u001b[A\u001b[A\u001b[A\u001b[A\u001b[A\u001b[A\u001b[A"
     ]
    },
    {
     "name": "stdout",
     "output_type": "stream",
     "text": [
      "['B005HG9ESG', 'B005HG9ERW', 'B086JLVF84', 'B07X7HRMRK', 'B07C125Q9S', 'B07C1XHH6R', 'B0872MWRQW', 'B07C1Z6WW6', 'B07C23CN6M', 'B07C1ZGL2V', 'B07CB9XMHY', 'B07CDVHJC6', 'B07BXXS5L2', 'B07PCF1MYQ', 'B07P83L3VM', 'B002TACI6I', 'B07P619NNK', 'B07SPZYNNT', 'B01BR0AW2W', 'B078VBWKGP', 'B07P97J837', 'B000CDHZEY', 'B07B1XYMFC', 'B07B3HLJXR', 'B07MQS8G2R', 'B07PCCCPQN', 'B01LYLM8JJ', 'B07V43XKBD', 'B07P61BB23', 'B07P97JKKN', 'B079YF177C', 'B00COR1HHW', 'B07P97JGYC', 'B00LLKWVL4', 'B01JTXE1AI', 'B07CXQM58X', 'B01N0NEW34', 'B01JTXE17Q', 'B07CXQM58Z', 'B01MXUSQNH', 'B0725VSR56', 'B078YK1XFL', 'B078SDLD2X', 'B07T5SCLMG', 'B07T5SY8L6', 'B07T2JD255', 'B07VT3R6Q8', 'B07PBCTN92', 'B06W2JC3K9', 'B07C3VGY8K']\n"
     ]
    },
    {
     "name": "stderr",
     "output_type": "stream",
     "text": [
      "Waiting 57 seconds for additional tokens\n",
      "\n",
      "\n",
      "\n",
      "\n",
      "\n",
      "\n",
      "\n",
      "\n",
      "\n",
      "\n",
      "100%|██████████████████████████████████████████████████████████████████████████████████| 50/50 [01:20<00:00,  1.61s/it]\u001b[A\u001b[A\u001b[A\u001b[A\u001b[A\u001b[A\u001b[A\u001b[A\u001b[A\u001b[AWaiting 36 seconds for additional tokens\n",
      "Response from server: NOT_ENOUGH_TOKEN\n",
      "Waiting 58 seconds for additional tokens\n",
      "\n",
      "\n",
      "\n",
      "\n",
      "\n",
      "\n",
      "\n",
      "\n",
      "\n",
      "\n",
      "\n",
      "  0%|                                                                                           | 0/50 [00:00<?, ?it/s]\u001b[A\u001b[A\u001b[A\u001b[A\u001b[A\u001b[A\u001b[A\u001b[A\u001b[A\u001b[A\u001b[A"
     ]
    },
    {
     "name": "stdout",
     "output_type": "stream",
     "text": [
      "['B01N0993NM', 'B00EEN2HCS', 'B000AS45LC', 'B00ILBUG40', 'B00U9RUZ04', 'B06XQHC6TM', 'B0746VVWX5', 'B002GELXJK', 'B06Y2DT2GJ', 'B06VSZ69LL', 'B003AYEGGM', 'B00DM1DDBW', 'B0147RUWSQ', 'B003AYEGG2', 'B00FZSB0Y2', 'B00CCYN798', 'B00HRADSJ6', 'B004BYSR6K', 'B0147RUWS6', 'B004INIW1Y', 'B071V6V7YM', 'B0746W5MB8', 'B07FCNYND8', 'B07Q8TBFTX', 'B003A874R6', 'B004S44DTS', 'B000VWKIKO', 'B079RDR8ZD', 'B002ECZEVM', 'B0147RUWVI', 'B07Y23CM6Z', 'B07QC43BXB', 'B07JFD7D32', 'B07BYW1TKZ', 'B07TNFQX8P', 'B00VIQX9OY', 'B083PYNPB2', 'B00U9RV1DY', 'B07D525VZS', 'B07XCJSYRT', 'B087N7TGF5', 'B0752L2VSJ', 'B07V4BGPZJ', 'B07X6846K1', 'B087NG7ZW6', 'B083198FHH', 'B07YD8TFFJ', 'B000NSTYOC', 'B07CLKZJ51', 'B01MXRZRBC']\n"
     ]
    },
    {
     "name": "stderr",
     "output_type": "stream",
     "text": [
      "\n",
      "\n",
      "\n",
      "\n",
      "\n",
      "\n",
      "\n",
      "\n",
      "\n",
      "\n",
      "\n",
      "100%|██████████████████████████████████████████████████████████████████████████████████| 50/50 [00:03<00:00, 15.35it/s]\u001b[A\u001b[A\u001b[A\u001b[A\u001b[A\u001b[A\u001b[A\u001b[A\u001b[A\u001b[A\u001b[AWaiting 54 seconds for additional tokens\n",
      "Response from server: NOT_ENOUGH_TOKEN\n",
      "Waiting 58 seconds for additional tokens\n",
      "\n",
      "\n",
      "\n",
      "\n",
      "\n",
      "\n",
      "\n",
      "\n",
      "\n",
      "\n",
      "\n",
      "\n",
      "  0%|                                                                                           | 0/50 [00:00<?, ?it/s]\u001b[A\u001b[A\u001b[A\u001b[A\u001b[A\u001b[A\u001b[A\u001b[A\u001b[A\u001b[A\u001b[A\u001b[A"
     ]
    },
    {
     "name": "stdout",
     "output_type": "stream",
     "text": [
      "['B01N0993NM', 'B07GB3QXC6', 'B0084AWBRS', 'B07PYTGL23', 'B087MBH1G4', 'B076JP8BDQ', 'B07R6RG5FD', 'B0883BY4QM', 'B07QTZCQ8Y', 'B07YS31HXB', 'B07XLGJFSY', 'B07JFH3X1G', 'B083WLR22G', 'B07YD8TFFJ', 'B07YV6L88G', 'B0888CMWXY', 'B07F1MV9DR', 'B01LPT25A2', 'B07SZ7PK66', 'B002FS4VJQ', 'B087T2M148', 'B087X48S57', 'B07X74NWTS', 'B082W5V95W', 'B07NZC7DXM', 'B00A4N8JJM', 'B000BCZ8JU', 'B07TK1S8SK', 'B00H4INPPI', 'B07GC52ZKF', 'B087N3ZKYV', 'B006YPQ7XY', 'B07DVLQSRK', 'B087D9H6BJ', 'B07CN3V9Q5', 'B07WV932R4', 'B087RS4HYS', 'B085G1WML3', 'B07NM71SFG', 'B07TKZS98Q', 'B07XQBZ3J8', 'B001GQ3GEY', 'B07XLVB8PD', 'B07ZT33HS6', 'B01G7QXQV0', 'B086GSR3LG', 'B00H4INPO4', 'B083QHKD16', 'B07XQK6PNH', 'B01M5FRLLS']\n"
     ]
    },
    {
     "name": "stderr",
     "output_type": "stream",
     "text": [
      "Waiting 58 seconds for additional tokens\n",
      "\n",
      "\n",
      "\n",
      "\n",
      "\n",
      "\n",
      "\n",
      "\n",
      "\n",
      "\n",
      "\n",
      "\n",
      "100%|██████████████████████████████████████████████████████████████████████████████████| 50/50 [01:02<00:00,  1.25s/it]\u001b[A\u001b[A\u001b[A\u001b[A\u001b[A\u001b[A\u001b[A\u001b[A\u001b[A\u001b[A\u001b[A\u001b[AWaiting 56 seconds for additional tokens\n",
      "Response from server: NOT_ENOUGH_TOKEN\n",
      "Waiting 57 seconds for additional tokens\n",
      "\n",
      "\n",
      "\n",
      "\n",
      "\n",
      "\n",
      "\n",
      "\n",
      "\n",
      "\n",
      "\n",
      "\n",
      "\n",
      "  0%|                                                                                           | 0/50 [00:00<?, ?it/s]\u001b[A\u001b[A\u001b[A\u001b[A\u001b[A\u001b[A\u001b[A\u001b[A\u001b[A\u001b[A\u001b[A\u001b[A\u001b[A"
     ]
    },
    {
     "name": "stdout",
     "output_type": "stream",
     "text": [
      "['B0037Z6VK8', 'B074ZDXFL6', 'B005CUTW8O', 'B00AINMFAC', 'B004H1R8TY', 'B00GZQYK4K', 'B071RKWXKV', 'B01L9HE4KE', 'B00FH692PQ', 'B07DGK6HC6', 'B018FGSTT4', 'B07BHCB9Y2', 'B06X6CRHY7', 'B01FE3IIC4', 'B01BSB56OY', 'B01M6416TW', 'B00RWCDM4A', 'B005CUTY4G', 'B07D37PQGL', 'B01GIJ1Z6E', 'B076Q6442Z', 'B00BJCAPEE', 'B07BV5LT27', 'B000MD65FO', 'B06XPSP2HS', 'B072BGVMKC', 'B01DAPMQO4', 'B00ILBUEVK', 'B00CGPMEAQ', 'B07N13W76L', 'B07F44G1LS', 'B005IHT8KI', 'B07P7L1HFN', 'B00AFBXQNC', 'B01N97PCBH', 'B01NAFQIJ9', 'B01H6OXQFS', 'B01MYONM8E', 'B01MUOX7PP', 'B01GQRR34Q', 'B07HRNLW6V', 'B003TPW5YM', 'B00SGP6316', 'B001UGL84U', 'B01782L0WO', 'B07NRYPX4Q', 'B07PWMXB61', 'B07K8DMTXX', 'B003OBY5MG', 'B07K84ZX5T']\n"
     ]
    },
    {
     "name": "stderr",
     "output_type": "stream",
     "text": [
      "\n",
      "\n",
      "\n",
      "\n",
      "\n",
      "\n",
      "\n",
      "\n",
      "\n",
      "\n",
      "\n",
      "\n",
      "\n",
      "100%|██████████████████████████████████████████████████████████████████████████████████| 50/50 [00:04<00:00, 11.23it/s]\u001b[A\u001b[A\u001b[A\u001b[A\u001b[A\u001b[A\u001b[A\u001b[A\u001b[A\u001b[A\u001b[A\u001b[A\u001b[A\n",
      "Waiting 53 seconds for additional tokens\n",
      "Response from server: NOT_ENOUGH_TOKEN\n",
      "Waiting 57 seconds for additional tokens\n",
      "\n",
      "\n",
      "\n",
      "\n",
      "\n",
      "\n",
      "\n",
      "\n",
      "\n",
      "\n",
      "\n",
      "\n",
      "\n",
      "  0%|                                                                                           | 0/50 [00:00<?, ?it/s]\u001b[A\u001b[A\u001b[A\u001b[A\u001b[A\u001b[A\u001b[A\u001b[A\u001b[A\u001b[A\u001b[A\u001b[A\u001b[A"
     ]
    },
    {
     "name": "stdout",
     "output_type": "stream",
     "text": [
      "['B07CSP1CGB', 'B00Q8JRSNY', 'B074NB6L9Z', 'B00IA6ILKC', 'B00PDHEKBU', 'B00O3989WA', 'B01078GH6A', 'B07QJX17DY', 'B00P60CH64', 'B07WFNFZVR', 'B075MXY6DQ', 'B01BZ0M3ZI', 'B074N5JXQV', 'B010B2LLOA', 'B00MTSM8HO', 'B00IA6IHPG', 'B082L85SZJ', 'B005GSYXJ0', 'B076PJSQ5S', 'B07RDDRHSP', 'B082L8W964', 'B01HSSXYVI', 'B01L5E7OB2', 'B003TXVZE0', 'B01GK94OQK', 'B079KMPJ12', 'B01JHZVVP6', 'B00YHEKY2Y', 'B013LS7T4W', 'B07MML7VHR', 'B01HSSZN2Q', 'B075MFCKJY', 'B07WCLX3JW', 'B07HMDBKSD', 'B009FREAGO', 'B07V69LCB1', 'B074PZ6QPM', 'B00IA6IN78', 'B01HSSVDT8', 'B01N4OP315', 'B00O398M9U', 'B083ZNJSCD', 'B013RJL2K2', 'B00D5YS4HE', 'B01N39TMC7', 'B01BZ0ME5W', 'B081YPM6RJ', 'B00CLH911E', 'B0753QRL18', 'B01HTBHMRG']\n"
     ]
    },
    {
     "name": "stderr",
     "output_type": "stream",
     "text": [
      "\n",
      "\n",
      "\n",
      "\n",
      "\n",
      "\n",
      "\n",
      "\n",
      "\n",
      "\n",
      "\n",
      "\n",
      "\n",
      "100%|██████████████████████████████████████████████████████████████████████████████████| 50/50 [00:03<00:00, 12.85it/s]\u001b[A\u001b[A\u001b[A\u001b[A\u001b[A\u001b[A\u001b[A\u001b[A\u001b[A\u001b[A\u001b[A\u001b[A\u001b[A\n",
      "Waiting 54 seconds for additional tokens\n",
      "Response from server: NOT_ENOUGH_TOKEN\n",
      "Waiting 57 seconds for additional tokens\n",
      "\n",
      "\n",
      "\n",
      "\n",
      "\n",
      "\n",
      "\n",
      "\n",
      "\n",
      "\n",
      "\n",
      "\n",
      "\n",
      "  0%|                                                                                           | 0/50 [00:00<?, ?it/s]\u001b[A\u001b[A\u001b[A\u001b[A\u001b[A\u001b[A\u001b[A\u001b[A\u001b[A\u001b[A\u001b[A\u001b[A\u001b[A"
     ]
    },
    {
     "name": "stdout",
     "output_type": "stream",
     "text": [
      "['B00D3JA5V4', 'B07PBP8C8R', 'B07ND5BB8V', 'B07ND3MW45', 'B07FGBSF45', 'B07BQV5RWW', 'B001AZFA0O', 'B0874Y8KQH', 'B074CRK54X', 'B0014C440U', 'B07PCKPC1Y', 'B081NP6X31', 'B086HBR8Y9', 'B0854WL4G3', 'B081M896RK', 'B0798DVT68', 'B07TLNQTK6', 'B01B5KAAUS', 'B0798C1NYR', 'B07986PWD3', 'B001DEIG44', 'B0042VIK3C', 'B086Q2FNSH', 'B0798DVT69', 'B0863S9Y73', 'B07CMSTTCQ', 'B002FB2CS0', 'B086Z78QCW', 'B06XSJ1RJQ', 'B000X7T8EE', 'B07ZCJH2R6', 'B0040XCTP2', 'B087D64YFG', 'B07BG5NX3Y', 'B00VNBESVM', 'B07Y8ZK1Y4', 'B081QKGJSZ', 'B081L2742C', 'B00JJXMAI4', 'B00DNYXJP8', 'B086VQX9QL', 'B01LAJ8F0Q', 'B0000AZ74O', 'B086MKPYV9', 'B07YMTSLMY', 'B085FVF4JD', 'B07YM28YWB', 'B07SVP83BP', 'B07YMP1JZT', 'B07YMYGL7Y']\n"
     ]
    },
    {
     "name": "stderr",
     "output_type": "stream",
     "text": [
      "Waiting 56 seconds for additional tokens\n",
      "\n",
      "\n",
      "\n",
      "\n",
      "\n",
      "\n",
      "\n",
      "\n",
      "\n",
      "\n",
      "\n",
      "\n",
      "\n",
      "100%|██████████████████████████████████████████████████████████████████████████████████| 50/50 [01:32<00:00,  1.85s/it]\u001b[A\u001b[A\u001b[A\u001b[A\u001b[A\u001b[A\u001b[A\u001b[A\u001b[A\u001b[A\u001b[A\u001b[A\u001b[AWaiting 24 seconds for additional tokens\n",
      "Response from server: NOT_ENOUGH_TOKEN\n",
      "Waiting 57 seconds for additional tokens\n",
      "\n",
      "\n",
      "\n",
      "\n",
      "\n",
      "\n",
      "\n",
      "\n",
      "\n",
      "\n",
      "\n",
      "\n",
      "\n",
      "\n",
      "  0%|                                                                                           | 0/50 [00:00<?, ?it/s]\u001b[A\u001b[A\u001b[A\u001b[A\u001b[A\u001b[A\u001b[A\u001b[A\u001b[A\u001b[A\u001b[A\u001b[A\u001b[A\u001b[A"
     ]
    },
    {
     "name": "stdout",
     "output_type": "stream",
     "text": [
      "['B074DZ6NGS', 'B074DZGRMG', 'B074DZ6NJB', 'B074DZHYS6', 'B0756ZWKW5', 'B074DZNJ3T', 'B074DZ65J3', 'B074DZ5YL9', 'B074DZFKH6', 'B074DYLY5V', 'B01MYYVGU7', 'B07Y52WTYP', 'B01N9GPLFS', 'B01LR5SIRI', 'B01LR5S6HK', 'B0727Q5F94', 'B01LR5S1WA', 'B01LR5SEKE', 'B01LR5RSG0', 'B01LR5RG08', 'B01LR5RK0Y', 'B01LR5RBZ8', 'B01LR5RVYE', 'B07G2MTKHJ', 'B01LR5SAIA', 'B01LR5RO5U', 'B088B8683R', 'B088BLF8VH', 'B088BVQPVF', 'B088B86P5K', 'B088BG9799', 'B088BJQDQ6', 'B088BB6TW4', 'B088BJMR73', 'B088CF9VWF', 'B088B4QG5S', 'B07NPX5K94', 'B01L8X02WI', 'B009GC76QO', 'B07235H4JQ', 'B07YYW6L2K', 'B0077XVIS6', 'B07TWCBW57', 'B009GC76NW', 'B07YYS39DV', 'B07YYW44ML', 'B07YYWBPDL', 'B01D487TDA', 'B07Y2T7B7G', 'B07V2Y8P4L']\n"
     ]
    },
    {
     "name": "stderr",
     "output_type": "stream",
     "text": [
      "\n",
      "\n",
      "\n",
      "\n",
      "\n",
      "\n",
      "\n",
      "\n",
      "\n",
      "\n",
      "\n",
      "\n",
      "\n",
      "\n",
      "100%|██████████████████████████████████████████████████████████████████████████████████| 50/50 [00:08<00:00,  5.74it/s]\u001b[A\u001b[A\u001b[A\u001b[A\u001b[A\u001b[A\u001b[A\u001b[A\u001b[A\u001b[A\u001b[A\u001b[A\u001b[A\u001b[AWaiting 48 seconds for additional tokens\n",
      "Response from server: NOT_ENOUGH_TOKEN\n",
      "Waiting 56 seconds for additional tokens\n",
      "\n",
      "\n",
      "\n",
      "\n",
      "\n",
      "\n",
      "\n",
      "\n",
      "\n",
      "\n",
      "\n",
      "\n",
      "\n",
      "\n",
      "\n",
      "  0%|                                                                                           | 0/50 [00:00<?, ?it/s]\u001b[A\u001b[A\u001b[A\u001b[A\u001b[A\u001b[A\u001b[A\u001b[A\u001b[A\u001b[A\u001b[A\u001b[A\u001b[A\u001b[A\u001b[A"
     ]
    },
    {
     "name": "stdout",
     "output_type": "stream",
     "text": [
      "['B00FO9ZRZU', 'B00FO9ZRYQ', 'B00FO9U46W', 'B017198D8S', 'B00FO9ZRYG', 'B00FO9ZRZ0', 'B00JW3CTTQ', 'B00FO9ZRZK', 'B00RWFQYG0', 'B00FO9ZS2W', 'B086GVCCWX', 'B07VSJLX16', 'B07VRFNV6T', 'B07VSHYB3J', 'B082XXQ69Y', 'B07VQ9S45C', 'B07VW466Q2', 'B082XXR5QD', 'B07YNGD5MY', 'B07HB1JL16', 'B07H9KV1GG', 'B07HB1JXF3', 'B07H9PZMVV', 'B07H9KZQ9G', 'B07JVWGQX3', 'B07H9KV2YL', 'B07VQ9LK9Q', 'B07VTYNJ95', 'B07J9WSQFZ', 'B07H9PZ42P', 'B07H9PZ6MH', 'B07H9P7QYC', 'B07H9PZGSP', 'B07H9PZDQW', 'B07H9PDL2Y', 'B086VFQKYP', 'B086VFFCZK', 'B07XVNW82F', 'B07XLTQV8T', 'B086VGFSDB', 'B082MSMQ5N', 'B07XVNKSL3', 'B07XVMF1HL', 'B07XVP6MZR', 'B07XVMH6N2', 'B07XLTQJ6T', 'B07XVMWW4W', 'B07XLTPN48', 'B07XVNXZHY', 'B07XVP7TG9']\n"
     ]
    },
    {
     "name": "stderr",
     "output_type": "stream",
     "text": [
      "Waiting 58 seconds for additional tokens\n",
      "\n",
      "\n",
      "\n",
      "\n",
      "\n",
      "\n",
      "\n",
      "\n",
      "\n",
      "\n",
      "\n",
      "\n",
      "\n",
      "\n",
      "\n",
      "100%|██████████████████████████████████████████████████████████████████████████████████| 50/50 [01:02<00:00,  1.26s/it]\u001b[A\u001b[A\u001b[A\u001b[A\u001b[A\u001b[A\u001b[A\u001b[A\u001b[A\u001b[A\u001b[A\u001b[A\u001b[A\u001b[A\u001b[AWaiting 54 seconds for additional tokens\n",
      "Response from server: NOT_ENOUGH_TOKEN\n",
      "Waiting 56 seconds for additional tokens\n",
      "\n",
      "\n",
      "\n",
      "\n",
      "\n",
      "\n",
      "\n",
      "\n",
      "\n",
      "\n",
      "\n",
      "\n",
      "\n",
      "\n",
      "\n",
      "\n",
      "  0%|                                                                                           | 0/50 [00:00<?, ?it/s]\u001b[A\u001b[A\u001b[A\u001b[A\u001b[A\u001b[A\u001b[A\u001b[A\u001b[A\u001b[A\u001b[A\u001b[A\u001b[A\u001b[A\u001b[A\u001b[A"
     ]
    },
    {
     "name": "stdout",
     "output_type": "stream",
     "text": [
      "['B07KXQX3S3', 'B07SR1BRN5', 'B01L2ZRYVE', 'B086GFHCB2', 'B07DPG774K', 'B07K2676W7', 'B01N3ASPNV', 'B07V5LZMTH', 'B07V2BBMK4', 'B0819CCCN6', 'B07FV64QLX', 'B07F8S18D5', 'B00MYT481C', 'B07SL6ZXBL', 'B07L69ZV1K', 'B07TCPVHTM', 'B07YDLMBSD', 'B07RMC5BRL', 'B07YJP3XZW', 'B07V4GCFP9', 'B0795GHTBC', 'B07T1KR3WQ', 'B07TY4THDW', 'B07WG1FHL2', 'B07QNRB5SB', 'B01N1037CV', 'B07VC5GH71', 'B07NR39TXK', 'B07PC7X38X', 'B083HYDGSK', 'B01MUA0D2A', 'B07G5TP4BN', 'B083DG4FGD', 'B07T5QKKVP', 'B0814RZZ2J', 'B076DWKD5B', 'B01N1081RO', 'B07SK4W1VJ', 'B07VHR4Y8G', 'B01NAUKS62', 'B071JRMKBH', 'B01MS6MO77', 'B07W3QM1YR', 'B07NQXBZM9', 'B07H5VTHJX', 'B07L3SXCL9', 'B07S9886QV', 'B07SK37PK2', 'B07F3RFPXG', 'B07RLZPYK1']\n"
     ]
    }
   ],
   "source": [
    "# Download Price Data\n",
    "for keyword in keyword_list:\n",
    "    keepa_data_download_keyword(keyword, frequency='D', date_cutoff='2020-01-15', data_type=1)"
   ]
  },
  {
   "cell_type": "code",
   "execution_count": null,
   "metadata": {},
   "outputs": [],
   "source": [
    "keepa_data_download_keyword('N95 Mask', field='NEW', date_cutoff='2020-01-01', data_type=1)"
   ]
  },
  {
   "cell_type": "code",
   "execution_count": null,
   "metadata": {},
   "outputs": [],
   "source": []
  }
 ],
 "metadata": {
  "kernelspec": {
   "display_name": "Python 3",
   "language": "python",
   "name": "python3"
  },
  "language_info": {
   "codemirror_mode": {
    "name": "ipython",
    "version": 3
   },
   "file_extension": ".py",
   "mimetype": "text/x-python",
   "name": "python",
   "nbconvert_exporter": "python",
   "pygments_lexer": "ipython3",
   "version": "3.7.7"
  }
 },
 "nbformat": 4,
 "nbformat_minor": 4
}
