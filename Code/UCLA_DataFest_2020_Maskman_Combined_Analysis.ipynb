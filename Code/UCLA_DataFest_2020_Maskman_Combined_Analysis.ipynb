{
 "cells": [
  {
   "cell_type": "code",
   "execution_count": 6,
   "metadata": {},
   "outputs": [],
   "source": [
    "import pandas as pd\n",
    "import numpy as np\n",
    "import matplotlib.pyplot as plt"
   ]
  },
  {
   "cell_type": "code",
   "execution_count": 7,
   "metadata": {},
   "outputs": [],
   "source": [
    "def combine_category_average(keyword_list, directory):\n",
    "    df_comp = pd.DataFrame()\n",
    "    for keyword in keyword_list:\n",
    "        df = pd.read_csv(directory+keyword+'_AMAZON_average.csv')\n",
    "        df['date'] = pd.to_datetime(df['date'])\n",
    "        df.set_index('date', inplace = True)\n",
    "        df_aver = pd.DataFrame(df['average'])\n",
    "        df_aver.rename(columns={'average':keyword}, inplace=True)\n",
    "        \n",
    "        # Deal with outliers\n",
    "        df_aver[abs((df_aver.pct_change())>=0.3)[keyword]] = np.nan\n",
    "        df_aver.fillna(method='ffill', inplace=True)\n",
    "        \n",
    "        if df_comp.empty:\n",
    "            df_comp = df_aver\n",
    "        else:\n",
    "            df_comp = df_comp.join(df_aver, how = 'outer')\n",
    "        \n",
    "        \n",
    "    df_comp.to_csv('combined_data/category_average.csv')\n",
    "    \n",
    "    return df_comp"
   ]
  },
  {
   "cell_type": "code",
   "execution_count": 8,
   "metadata": {},
   "outputs": [],
   "source": [
    "keyword_list = ['N95 Mask','hand sanitizer','disinfectant spray','disinfectant wipes','olive oil',\\\n",
    "                'canned soup','rice','instant noodles','bottled water','hair color','hair clipper',\\\n",
    "                'shampoo','trash bag','toilet paper','dumbbell','yoga mat','nintendo switch','pet supply','printer ink']\n",
    "\n",
    "df_combined = combine_category_average(keyword_list=keyword_list,directory='average_data/v1data/')"
   ]
  },
  {
   "cell_type": "code",
   "execution_count": 9,
   "metadata": {},
   "outputs": [],
   "source": [
    "def combine_out_of_stock_percentage(keyword_list):\n",
    "    df_comp = pd.DataFrame()\n",
    "    \n",
    "    for keyword in keyword_list:\n",
    "        df = pd.read_csv('stock_data/'+keyword+'_AMAZON.csv')\n",
    "        df['date'] = pd.to_datetime(df['date'])\n",
    "        df.set_index('date', inplace = True)\n",
    "        df = df[df.index.year>=2020]\n",
    "        df['OOS'] = df.apply(lambda row:(row<0).sum()/(row.isna() == False).sum(), axis=1)\n",
    "        \n",
    "        df_oos = pd.DataFrame(df['OOS'])\n",
    "        df_oos.rename(columns={'OOS':keyword}, inplace=True)\n",
    "        \n",
    "        if df_comp.empty:\n",
    "            df_comp = df_oos\n",
    "        else:\n",
    "            df_comp = df_comp.join(df_oos, how = 'outer')\n",
    "        \n",
    "    df_comp.fillna(method='ffill',inplace = True)\n",
    "    df_comp.to_csv('combined_data/out_of_stock_pct.csv')\n",
    "    \n",
    "    return df_comp"
   ]
  },
  {
   "cell_type": "code",
   "execution_count": 10,
   "metadata": {},
   "outputs": [
    {
     "name": "stderr",
     "output_type": "stream",
     "text": [
      "C:\\Users\\13105\\Anaconda3\\lib\\site-packages\\ipykernel_launcher.py:9: RuntimeWarning:\n",
      "\n",
      "invalid value encountered in longlong_scalars\n",
      "\n"
     ]
    }
   ],
   "source": [
    "df_oos = combine_out_of_stock_percentage(keyword_list)"
   ]
  },
  {
   "cell_type": "code",
   "execution_count": null,
   "metadata": {},
   "outputs": [],
   "source": []
  },
  {
   "cell_type": "code",
   "execution_count": null,
   "metadata": {},
   "outputs": [],
   "source": []
  },
  {
   "cell_type": "code",
   "execution_count": null,
   "metadata": {},
   "outputs": [],
   "source": []
  },
  {
   "cell_type": "code",
   "execution_count": null,
   "metadata": {},
   "outputs": [],
   "source": []
  }
 ],
 "metadata": {
  "kernelspec": {
   "display_name": "Python 3",
   "language": "python",
   "name": "python3"
  },
  "language_info": {
   "codemirror_mode": {
    "name": "ipython",
    "version": 3
   },
   "file_extension": ".py",
   "mimetype": "text/x-python",
   "name": "python",
   "nbconvert_exporter": "python",
   "pygments_lexer": "ipython3",
   "version": "3.7.7"
  }
 },
 "nbformat": 4,
 "nbformat_minor": 4
}
